{
 "metadata": {
  "name": "",
  "signature": "sha256:ca75ac4501e363ffcf77d74aa006120e7ba7e42fd35aa505d6ff40b95f644536"
 },
 "nbformat": 3,
 "nbformat_minor": 0,
 "worksheets": [
  {
   "cells": [
    {
     "cell_type": "code",
     "collapsed": false,
     "input": [
      "import nltk\n",
      "import codecs\n",
      "import gensim"
     ],
     "language": "python",
     "metadata": {},
     "outputs": [],
     "prompt_number": 2
    },
    {
     "cell_type": "code",
     "collapsed": false,
     "input": [
      "%cd '/media/max/Extension/Projects/ISMW-2015/Task-2/no_stem/'\n",
      "adjectives = dict()\n",
      "all_words = dict()\n",
      "\n",
      "with codecs.open('word_id', encoding='utf-8') as inp_file:\n",
      "    inp_file.readline()\n",
      "    for line in inp_file:\n",
      "        word, word_id = line.strip('\\r\\n ').rsplit(',', 1)\n",
      "        word_id = int(word_id)\n",
      "        if nltk.pos_tag([word])[0][1].startswith('JJ'):\n",
      "            adjectives[word_id] = word\n",
      "        all_words[word_id] = word"
     ],
     "language": "python",
     "metadata": {},
     "outputs": [
      {
       "output_type": "stream",
       "stream": "stdout",
       "text": [
        "/media/max/Extension/Projects/ISMW-2015/Task-2/no_stem\n"
       ]
      }
     ],
     "prompt_number": 3
    },
    {
     "cell_type": "code",
     "collapsed": false,
     "input": [
      "print 'Total adjectives found: {}'.format(len(adjectives))"
     ],
     "language": "python",
     "metadata": {},
     "outputs": [
      {
       "output_type": "stream",
       "stream": "stdout",
       "text": [
        "Total adjectives found: 38964\n"
       ]
      }
     ],
     "prompt_number": 60
    },
    {
     "cell_type": "code",
     "collapsed": false,
     "input": [
      "corpus = []\n",
      "text_ids = []\n",
      "max_texts = 1000\n",
      "i_text = 0\n",
      "\n",
      "with codecs.open('matrix', encoding='utf-8') as inp_file:\n",
      "    matrix_words = inp_file.readline().strip('\\r\\n ').split(',')[1:]\n",
      "    #print '\\n'.join(all_words[word] for word in matrix_words[:20])\n",
      "    #print matrix_words[:10]\n",
      "    print 'Total number of dimensions: {}'.format(len(all_words))\n",
      "    \n",
      "    for line in inp_file:\n",
      "        terms = [int(item) for item in line.strip('\\r\\n').split(',')]\n",
      "        post_id, terms = terms[0], terms[1:]\n",
      "        if sum(int(term) for term in terms) > 0:\n",
      "            corpus.append([(int(matrix_words[i]), terms[i]) for i in range(len(matrix_words))])\n",
      "            text_ids.append(post_id)\n",
      "        \n",
      "        if i_text > max_texts:\n",
      "            break\n",
      "        i_text += 1\n",
      "        #print len(terms), post_id, min(terms), max(terms), float(sum(terms))/len(terms)"
     ],
     "language": "python",
     "metadata": {},
     "outputs": [
      {
       "output_type": "stream",
       "stream": "stdout",
       "text": [
        "Total number of dimensions: 309293\n"
       ]
      }
     ],
     "prompt_number": 4
    },
    {
     "cell_type": "code",
     "collapsed": false,
     "input": [
      "model = gensim.models.LdaModel(corpus, id2word=all_words, num_topics=16, alpha='auto', eval_every=5)"
     ],
     "language": "python",
     "metadata": {},
     "outputs": [
      {
       "output_type": "stream",
       "stream": "stderr",
       "text": [
        "WARNING:gensim.models.ldamodel:too few updates, training might not converge; consider increasing the number of passes or iterations to improve accuracy\n"
       ]
      }
     ],
     "prompt_number": 61
    },
    {
     "cell_type": "code",
     "collapsed": false,
     "input": [
      "import re\n",
      "rx_good_word = re.compile(r'.*(ly|ing|ed|al)$')\n",
      "adj_exceptions = {u'can\u2019t', u'many', u'catalyst\u2013he'}\n",
      "\n",
      "def is_good(word):\n",
      "    return (word in adj_words and word not in adj_exceptions) or rx_good_word.match(word)"
     ],
     "language": "python",
     "metadata": {},
     "outputs": [],
     "prompt_number": 17
    },
    {
     "cell_type": "code",
     "collapsed": false,
     "input": [
      "topic_adj = []\n",
      "\n",
      "adj_words = adjectives.values()\n",
      "for i in range(model.num_topics):\n",
      "    topic_adj.append([word[1] for word in model.show_topic(i) if is_good(word[1])])"
     ],
     "language": "python",
     "metadata": {},
     "outputs": [],
     "prompt_number": 18
    },
    {
     "cell_type": "code",
     "collapsed": false,
     "input": [
      "print '\\n'.join(' '.join(topic) for topic in topic_adj)"
     ],
     "language": "python",
     "metadata": {},
     "outputs": [
      {
       "output_type": "stream",
       "stream": "stdout",
       "text": [
        "confining new alarmed\n",
        "cooking alarmed confining irrational\n",
        "confining alarmed\n",
        "confining cooking alarmed\n",
        "confining alarmed\n",
        "alarmed confining\n",
        "alarmed\n",
        "editorially alarmed confining\n",
        "confining fanatically alarmed framing\n",
        "confining visual fanatically readily\n",
        "flowed fanatically alarmed\n",
        "confining alarmed\n",
        "confining fanatically alarmed\n",
        "unevenly new confining framing\n",
        "alarmed confining\n",
        "fanatically unevenly\n"
       ]
      }
     ],
     "prompt_number": 19
    },
    {
     "cell_type": "code",
     "collapsed": false,
     "input": [
      "model.save('model_simple.dat')"
     ],
     "language": "python",
     "metadata": {},
     "outputs": [
      {
       "ename": "NameError",
       "evalue": "name 'model' is not defined",
       "output_type": "pyerr",
       "traceback": [
        "\u001b[1;31m---------------------------------------------------------------------------\u001b[0m\n\u001b[1;31mNameError\u001b[0m                                 Traceback (most recent call last)",
        "\u001b[1;32m<ipython-input-1-9be2ec78d25f>\u001b[0m in \u001b[0;36m<module>\u001b[1;34m()\u001b[0m\n\u001b[1;32m----> 1\u001b[1;33m \u001b[0mmodel\u001b[0m\u001b[1;33m.\u001b[0m\u001b[0msave\u001b[0m\u001b[1;33m(\u001b[0m\u001b[1;34m'model_simple.dat'\u001b[0m\u001b[1;33m)\u001b[0m\u001b[1;33m\u001b[0m\u001b[0m\n\u001b[0m",
        "\u001b[1;31mNameError\u001b[0m: name 'model' is not defined"
       ]
      }
     ],
     "prompt_number": 1
    },
    {
     "cell_type": "code",
     "collapsed": false,
     "input": [
      "model = gensim.models.LdaModel.load('model_simple.dat')"
     ],
     "language": "python",
     "metadata": {},
     "outputs": [],
     "prompt_number": 8
    },
    {
     "cell_type": "code",
     "collapsed": false,
     "input": [
      "for topic in model[corpus[40]]:\n",
      "    print 'Topic [{}]: {:.3f}'.format(', '.join(topic_adj[topic[0]]), topic[1])"
     ],
     "language": "python",
     "metadata": {},
     "outputs": [
      {
       "output_type": "stream",
       "stream": "stdout",
       "text": [
        "Topic [editorially, alarmed, confining]: 0.962\n"
       ]
      }
     ],
     "prompt_number": 27
    }
   ],
   "metadata": {}
  }
 ]
}